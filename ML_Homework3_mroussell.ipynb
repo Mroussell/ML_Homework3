{
 "cells": [
  {
   "cell_type": "markdown",
   "metadata": {},
   "source": [
    "# Homework 3\n",
    "\n",
    "Michael Roussell\n",
    "\n",
    "GSU CSC 4370\n",
    "\n",
    "Fall 2021\n",
    "\n",
    "#### NOTE: All python work was done in Python 3.8.12, so please use the linux/unix version of the interpritor for the most accurate results. \n",
    "---------------------------------------"
   ]
  },
  {
   "cell_type": "markdown",
   "metadata": {},
   "source": [
    "## Question 1\n",
    "\n",
    "Firstly, we must define what logistic regression and the Bernoulli distrabution are in order to firmly express in detail how logistic regression is derived from Bernoulli the distrabution. \n",
    "With this, we can use the binary response case to simplify the decisions. This is the core concept of which A Bernoulli distribution is base. \n",
    "\n",
    "As defined in the slides, \"a Bernoulli distribution is a discrete probablility distribution for a Bernoulli trial - a random experiment that hjas only two outcomes )usually called a 'Success' or a 'Failure').\"\n",
    "More formally, we can say that the Bernoulli distribution is the discrete probablity distibution of a random variable for which the value 1, probability p, and the value 0 with probability q = 1 - p.\n",
    "Then P(X=1) = p = 1 - P(X=0) = 1 - q. \n",
    "Where P(X=1) + P(X=0) = 1.\n",
    "\n",
    "Now defining logistic regression we must first look at some other core definitions.\n",
    "Firstly, we look at the definitions of odds and odds ratio.\n",
    "Defining as,\n",
    "\n",
    "    1. odds = P( occuring ) / P( not occuring ),\n",
    "    2. and odds ratio = (P_1 / (1 - P_1)) / (P_0 / (1 - P_0))\n",
    "\n",
    "The odds ratio then for a variable in logistic regression represents how the odds change with a 1 unit increase in that variable holding all other variables constant.\n",
    "\n",
    "Now to tie this together we need a function that links linear combination and the essence of the Bernoulli distribution\n",
    "This can be done by using that natural log of the odds or \"logit\".\n",
    "Doing so maps the linear combination of variables that could result in any value with a domain off [0,1]. And thus we gain,\n",
    "\n",
    "    ln(odd) -> ln(p/(1-p)) which is the logit(p) function.\n",
    "\n",
    "This then allows for,\n",
    "\n",
    "    logit(p) = ln(p/(1-p)) = B_0 + B_1*X_1 B_2*X_2 + ... + B_n*X_n , for some integer n = 1,2,...,n\n",
    "\n",
    "Then we gain the equation for logistic regression from the above.\n",
    "From here we can simplify to the simpliest case with,\n",
    "\n",
    "    log(p(x)/(1-p(x))) = B_0 + B_1*X\n",
    "\n",
    "Then solving for p we get,\n",
    "\n",
    "    p(x) = (e^(B_0 + B_1*X) / (1 + e^(B_0 + B_1*X))) = 1 / (1 + e^-(B_0 + B_1*X)))\n",
    "\n",
    "With this we have shown with quite some depth as to how logistic regression is derived from the Bernoulli distribution.\n",
    "\n",
    "Now, as for when to apply logistic regression as opposed to linear regression. \n",
    "We can look at this a few ways. \n",
    "But to start off, let us look at when to use linear regression.\n",
    "Linear regression is used when the  dependent variable is continuous given a set of independent features.\n",
    "This means that the problem to apply linear regression to is that of regression, specifically regression problems with linear trends or relationships.\n",
    "Logistic regression on the other hand is used for classification problems, specifically binary classification problems that fit into the concept of the Bernoulli distribution. \n",
    "So if the categoies of outputs fits into a Success/Fail, Yes/No, or 0/1 type of classification problem and not a linear relationship, then logistic regression is the correct regression algorithm to apply."
   ]
  },
  {
   "cell_type": "markdown",
   "metadata": {},
   "source": [
    "## Question 2\n",
    "\n",
    "To explain about Precision and Recall, first we can go about defining what they are.\n",
    "Precision is defined to be,\n",
    "\n",
    "    Precision = TP / (TP + FP)\n",
    "\n",
    "Where TP is True Positive and FP is False Positive.\n",
    "Precision attempts to answer what proportion of postive indentification was actually correct.\n",
    "\n",
    "Recall is defined to be,\n",
    "\n",
    "    Recall = TP / (TP + FN)\n",
    "\n",
    "Where TP is True Prositive and FN is Flase Negative.\n",
    "Recall attempts to answer what proportion of actual postivies was identified correctly.\n",
    "\n",
    "Now looking more at the base of these concepts we must define what True, False, Negative and Positive are in their combinations.\n",
    "A True Positive is an outcome where the model makes a correct prediction for the postive class.\n",
    "A True Negative is an outcome where the model makes a correct prediction about the negative class.\n",
    "A False Positive is an outcome where the model makes an incorrect prediction about the positive class.\n",
    "A False Negative is an outcome where the model makes an incorrect prediction about the negative class.\n",
    "\n",
    "With these we can begin to get a picture of what Precision and Recall aim to provide for data. Both Precision and Recall are used in classification and the effectiveness of a classification model. Precision and Recall are also usually opposed, meaning to improve one the other is typically reduced. For example, if the goal is to improve precision, recall would typically be reduced. This is true in the oppostite situation as well. To improve Recall usually Precision is reduced.\n",
    "\n",
    "With all of this being said, the main purpose for Precision and Recall is to measure the success of a prediction when the classes are imbalanced.\n",
    "\n",
    "\n"
   ]
  },
  {
   "cell_type": "markdown",
   "metadata": {},
   "source": [
    "## Number 3"
   ]
  },
  {
   "cell_type": "code",
   "execution_count": 94,
   "metadata": {},
   "outputs": [],
   "source": [
    "import os\n",
    "import pandas as pd\n",
    "import numpy as np\n",
    "import matplotlib.pyplot as plt \n",
    "from sklearn import preprocessing\n",
    "from sklearn.linear_model import LogisticRegression\n",
    "from sklearn.model_selection import train_test_split\n",
    "from sklearn import metrics\n",
    "from sklearn.metrics import log_loss\n",
    "import seaborn as sns"
   ]
  },
  {
   "cell_type": "code",
   "execution_count": 95,
   "metadata": {},
   "outputs": [
    {
     "name": "stderr",
     "output_type": "stream",
     "text": [
      "/opt/homebrew/anaconda3/lib/python3.8/site-packages/sklearn/linear_model/_logistic.py:763: ConvergenceWarning: lbfgs failed to converge (status=1):\n",
      "STOP: TOTAL NO. of ITERATIONS REACHED LIMIT.\n",
      "\n",
      "Increase the number of iterations (max_iter) or scale the data as shown in:\n",
      "    https://scikit-learn.org/stable/modules/preprocessing.html\n",
      "Please also refer to the documentation for alternative solver options:\n",
      "    https://scikit-learn.org/stable/modules/linear_model.html#logistic-regression\n",
      "  n_iter_i = _check_optimize_result(\n"
     ]
    }
   ],
   "source": [
    "# import data to DataFrame\n",
    "hearts_df = pd.read_csv('Data/heart.csv')\n",
    "\n",
    "# Seperate into independent and dependent variables\n",
    "y = hearts_df['target']\n",
    "X = hearts_df.drop('target', axis=1)\n",
    "\n",
    "# Split int test and train sections \n",
    "X_train,X_test,y_train,y_test = train_test_split(X,y,test_size=0.2,random_state=42)\n",
    "\n",
    "# Create Logistic Regression Model\n",
    "logreg = LogisticRegression()\n",
    "logreg.fit(X_train, y_train)\n",
    "y_pred = logreg.predict(X_test)"
   ]
  },
  {
   "cell_type": "code",
   "execution_count": 96,
   "metadata": {},
   "outputs": [
    {
     "data": {
      "image/png": "[encoded data removed]",
      "text/plain": [
       "<Figure size 432x288 with 2 Axes>"
      ]
     },
     "metadata": {
      "needs_background": "light"
     },
     "output_type": "display_data"
    }
   ],
   "source": [
    "# Set Up Heat Map for Preformnce Test\n",
    "confusion_matrix = pd.crosstab(y_test, y_pred, rownames=['Actual'], colnames=['Predicted'])\n",
    "sns.heatmap(confusion_matrix, annot=True)\n",
    "\n",
    "TN = confusion_matrix[0][0]\n",
    "FP = confusion_matrix[0][1]\n",
    "FN = confusion_matrix[1][0]\n",
    "TP = confusion_matrix[1][1]\n"
   ]
  },
  {
   "cell_type": "code",
   "execution_count": 97,
   "metadata": {},
   "outputs": [
    {
     "name": "stdout",
     "output_type": "stream",
     "text": [
      "accuracy:  0.8852459016393442\n",
      "misclassification:  0.11475409836065575\n",
      "sensitivity:  0.8787878787878788\n",
      "specificity:  0.8928571428571429\n",
      "Positive Predictive Value:  0.90625\n",
      "Negative Predictive Value:  0.8620689655172413\n",
      "Positive Likelihood Ratio:  8.202020202020206\n",
      "Negative Likelihood Ratio:  0.13575757575757574\n"
     ]
    }
   ],
   "source": [
    "# Performance Tests\n",
    "accuracy = metrics.accuracy_score(y_pred, y_test)\n",
    "print('accuracy: ', accuracy)\n",
    "misclassification = 1 - accuracy\n",
    "print('misclassification: ', misclassification)\n",
    "sensitivity = TP/(TP+FN)\n",
    "print('sensitivity: ', sensitivity)\n",
    "specificity = TN/(TN+FP)\n",
    "print('specificity: ', specificity)\n",
    "print(\"Positive Predictive Value: \", TP/(TP+FP))\n",
    "print(\"Negative Predictive Value: \", TN/(TN+FN))\n",
    "print(\"Positive Likelihood Ratio: \", sensitivity/(1-specificity) )\n",
    "print(\"Negative Likelihood Ratio: \", (1-sensitivity)/specificity )"
   ]
  },
  {
   "cell_type": "markdown",
   "metadata": {},
   "source": [
    "## Number 4\n",
    "\n",
    "### Logistic Regression Equation:\n",
    "\n",
    "    p = 1/ 1 + e^ -(b0 + b1(SPHEQ))\n",
    "\n",
    "where X = SPHEQ and y is the target MYOPIC.\n",
    "\n",
    "### Logit Transform Equation:\n",
    "\n",
    "    logit(p) - log(p/(1-p))\n",
    "\n",
    "where p is the probablity of occurance,"
   ]
  },
  {
   "cell_type": "code",
   "execution_count": 98,
   "metadata": {},
   "outputs": [],
   "source": [
    "# import MYOPIA data into DataFrame\n",
    "myopia_df = pd.read_csv('Data/MYOPIA.csv')\n",
    "SPHEQ_data = np.array(myopia_df['SPHEQ'])\n",
    "MYOPIC_data = np.array(myopia_df['MYOPIC'])"
   ]
  },
  {
   "cell_type": "code",
   "execution_count": 99,
   "metadata": {},
   "outputs": [],
   "source": [
    "# Function to find logistic regression and output coef, intercept, y_pred, y_test, probability, and confusion_matrix\n",
    "def logistic_regression(X , y):\n",
    "    x_train, x_test, y_train, y_test = train_test_split(X,y,test_size=0.25,random_state=0)\n",
    "    logreg = LogisticRegression()\n",
    "    logreg.fit(x_train.reshape(-1,1),y_train)\n",
    "    y_pred = logreg.predict(x_test.reshape(-1,1))\n",
    "    prob = logreg.predict_proba(x_test.reshape(-1,1))\n",
    "\n",
    "    confusion_matrix = pd.crosstab(y_test, y_pred, rownames=['Actual'], colnames=['Predicted'])\n",
    "\n",
    "    return logreg.coef_, logreg.intercept_, y_pred, y_test, prob, confusion_matrix"
   ]
  },
  {
   "cell_type": "code",
   "execution_count": 100,
   "metadata": {},
   "outputs": [],
   "source": [
    "# Function to find log likely hood give y_pred and y_true\n",
    "def log_likelihood(y_pred, y_true):\n",
    "    return -log_loss(y_true, y_pred)*len(y_true)"
   ]
  },
  {
   "cell_type": "code",
   "execution_count": 101,
   "metadata": {},
   "outputs": [
    {
     "name": "stdout",
     "output_type": "stream",
     "text": [
      "[0 0 0 0 0 0 0 0 0 0 0 0 0 0 0 0 0 0 0 0 1 0 0 0 0 0 0 0 0 0 1 1 0 0 0 0 0\n",
      " 1 1 0 0 0 0 1 0 0 1 0 0 0 0 0 0 0 0 0 0 0 0 0 0 0 0 1 1 0 0 0 0 0 0 0 0 0\n",
      " 1 1 1 0 0 0 1 0 0 0 0 0 0 0 1 1 0 0 0 0 0 0 0 1 0 0 0 0 0 0 0 0 0 0 0 0 0\n",
      " 0 0 1 1 0 0 0 0 0 0 0 0 1 0 0 0 0 0 0 0 0 0 1 0 0 0 0 1 0 0 0 0 0 1 0 0 0\n",
      " 0 0 0 0 0 0 0]\n",
      "log likelihood:  -656.2511442570467\n",
      "model slope:  [[-3.15927299]]\n",
      "model intercept:  [-0.23155743]\n"
     ]
    },
    {
     "data": {
      "image/png": "[encoded data removed]",
      "text/plain": [
       "<Figure size 432x288 with 1 Axes>"
      ]
     },
     "metadata": {
      "needs_background": "light"
     },
     "output_type": "display_data"
    },
    {
     "name": "stdout",
     "output_type": "stream",
     "text": [
      "Probabilities: \n",
      " [[9.65785166e-01 3.42148335e-02]\n",
      " [9.10506653e-01 8.94933472e-02]\n",
      " [9.10506653e-01 8.94933472e-02]\n",
      " [9.91335683e-01 8.66431685e-03]\n",
      " [9.70637816e-01 2.93621836e-02]\n",
      " [7.79280852e-01 2.20719148e-01]\n",
      " [9.87968426e-01 1.20315737e-02]\n",
      " [7.83597362e-01 2.16402638e-01]\n",
      " [6.02237133e-01 3.97762867e-01]\n",
      " [9.92211246e-01 7.78875383e-03]\n",
      " [9.39526996e-01 6.04730036e-02]\n",
      " [9.32335255e-01 6.76647450e-02]\n",
      " [9.33128129e-01 6.68718711e-02]\n",
      " [9.40063244e-01 5.99367565e-02]\n",
      " [9.44195562e-01 5.58044378e-02]\n",
      " [9.71349628e-01 2.86503717e-02]\n",
      " [9.00513555e-01 9.94864447e-02]\n",
      " [7.13164072e-01 2.86835928e-01]\n",
      " [9.45349417e-01 5.46505833e-02]\n",
      " [6.20251965e-01 3.79748035e-01]\n",
      " [8.80543925e-01 1.19456075e-01]\n",
      " [6.67293789e-01 3.32706211e-01]\n",
      " [9.49136992e-01 5.08630080e-02]\n",
      " [9.97350909e-01 2.64909139e-03]\n",
      " [9.46640580e-01 5.33594197e-02]\n",
      " [5.40424928e-01 4.59575072e-01]\n",
      " [9.60284104e-01 3.97158957e-02]\n",
      " [9.99991301e-01 8.69869096e-06]\n",
      " [9.39706242e-01 6.02937576e-02]\n",
      " [9.86951854e-01 1.30481456e-02]\n",
      " [6.06014936e-01 3.93985064e-01]\n",
      " [8.43958623e-01 1.56041377e-01]\n",
      " [8.23850454e-01 1.76149546e-01]\n",
      " [6.97406593e-01 3.02593407e-01]\n",
      " [9.71524946e-01 2.84750544e-02]\n",
      " [7.44962646e-01 2.55037354e-01]\n",
      " [8.72335522e-01 1.27664478e-01]\n",
      " [7.40738248e-01 2.59261752e-01]\n",
      " [9.11531052e-01 8.84689485e-02]\n",
      " [9.66915112e-01 3.30848885e-02]\n",
      " [8.41446009e-01 1.58553991e-01]\n",
      " [8.88917579e-01 1.11082421e-01]\n",
      " [9.11531052e-01 8.84689485e-02]\n",
      " [8.53685554e-01 1.46314446e-01]\n",
      " [8.35889452e-01 1.64110548e-01]\n",
      " [9.70637816e-01 2.93621836e-02]\n",
      " [9.14787560e-01 8.52124400e-02]\n",
      " [7.97711964e-01 2.02288036e-01]\n",
      " [6.82541140e-01 3.17458860e-01]\n",
      " [9.39166997e-01 6.08330029e-02]\n",
      " [9.54629863e-01 4.53701369e-02]\n",
      " [9.55443831e-01 4.45561695e-02]\n",
      " [7.80365740e-01 2.19634260e-01]\n",
      " [8.01759719e-01 1.98240281e-01]\n",
      " [8.95892401e-01 1.04107599e-01]\n",
      " [9.00796229e-01 9.92037706e-02]\n",
      " [9.66508453e-01 3.34915475e-02]\n",
      " [9.67812723e-01 3.21872770e-02]\n",
      " [8.99661213e-01 1.00338787e-01]\n",
      " [9.69444403e-01 3.05555973e-02]\n",
      " [8.09671564e-01 1.90328436e-01]\n",
      " [7.56198626e-01 2.43801374e-01]\n",
      " [9.44692848e-01 5.53071524e-02]\n",
      " [8.74084379e-01 1.25915621e-01]\n",
      " [9.12292379e-01 8.77076212e-02]\n",
      " [9.90452690e-01 9.54731050e-03]\n",
      " [8.23391514e-01 1.76608486e-01]\n",
      " [7.76551863e-01 2.23448137e-01]\n",
      " [7.95150955e-01 2.04849045e-01]\n",
      " [9.17696703e-01 8.23032965e-02]\n",
      " [9.67016027e-01 3.29839727e-02]\n",
      " [9.99371480e-01 6.28519775e-04]\n",
      " [8.15445361e-01 1.84554639e-01]\n",
      " [9.93172493e-01 6.82750674e-03]\n",
      " [6.88669844e-01 3.11330156e-01]\n",
      " [6.79796661e-01 3.20203339e-01]\n",
      " [4.40489852e-01 5.59510148e-01]\n",
      " [9.19351683e-01 8.06483173e-02]\n",
      " [9.93278776e-01 6.72122359e-03]\n",
      " [9.87470315e-01 1.25296849e-02]\n",
      " [5.11288163e-01 4.88711837e-01]\n",
      " [8.69135329e-01 1.30864671e-01]\n",
      " [8.73736240e-01 1.26263760e-01]\n",
      " [9.84705545e-01 1.52944550e-02]\n",
      " [9.18646154e-01 8.13538461e-02]\n",
      " [9.27816542e-01 7.21834576e-02]\n",
      " [9.37336791e-01 6.26632091e-02]\n",
      " [9.73872657e-01 2.61273431e-02]\n",
      " [3.01653568e-01 6.98346432e-01]\n",
      " [6.20995811e-01 3.79004189e-01]\n",
      " [9.88410832e-01 1.15891680e-02]\n",
      " [9.83925307e-01 1.60746925e-02]\n",
      " [9.99203565e-01 7.96434650e-04]\n",
      " [9.14293735e-01 8.57062649e-02]\n",
      " [8.21082695e-01 1.78917305e-01]\n",
      " [9.54217595e-01 4.57824053e-02]\n",
      " [7.44361930e-01 2.55638070e-01]\n",
      " [7.25284366e-01 2.74715634e-01]\n",
      " [9.41471565e-01 5.85284351e-02]\n",
      " [9.32732776e-01 6.72672242e-02]\n",
      " [9.23914104e-01 7.60858964e-02]\n",
      " [9.15278818e-01 8.47211820e-02]\n",
      " [9.34880677e-01 6.51193234e-02]\n",
      " [9.02477323e-01 9.75226768e-02]\n",
      " [9.11275938e-01 8.87240624e-02]\n",
      " [9.24797708e-01 7.52022923e-02]\n",
      " [8.62530467e-01 1.37469533e-01]\n",
      " [8.44374231e-01 1.55625769e-01]\n",
      " [9.64940097e-01 3.50599033e-02]\n",
      " [8.83827297e-01 1.16172703e-01]\n",
      " [9.99993970e-01 6.02971504e-06]\n",
      " [9.93020888e-01 6.97911221e-03]\n",
      " [8.46027600e-01 1.53972400e-01]\n",
      " [3.77955623e-01 6.22044377e-01]\n",
      " [8.62155443e-01 1.37844557e-01]\n",
      " [9.16010880e-01 8.39891204e-02]\n",
      " [8.74431677e-01 1.25568323e-01]\n",
      " [9.25671876e-01 7.43281243e-02]\n",
      " [9.77948104e-01 2.20518963e-02]\n",
      " [9.97686632e-01 2.31336826e-03]\n",
      " [8.91999041e-01 1.08000959e-01]\n",
      " [9.88661437e-01 1.13385629e-02]\n",
      " [8.78535610e-01 1.21464390e-01]\n",
      " [1.59224913e-01 8.40775087e-01]\n",
      " [9.40771326e-01 5.92286736e-02]\n",
      " [9.20515159e-01 7.94848415e-02]\n",
      " [8.34585162e-01 1.65414838e-01]\n",
      " [9.88191674e-01 1.18083261e-02]\n",
      " [3.63218952e-01 6.36781048e-01]\n",
      " [9.41991643e-01 5.80083565e-02]\n",
      " [9.31734875e-01 6.82651247e-02]\n",
      " [9.45998637e-01 5.40013630e-02]\n",
      " [9.63855452e-01 3.61445485e-02]\n",
      " [8.32392878e-01 1.67607122e-01]\n",
      " [9.52675209e-01 4.73247909e-02]\n",
      " [8.15445361e-01 1.84554639e-01]\n",
      " [9.85583759e-01 1.44162414e-02]\n",
      " [9.96146576e-01 3.85342428e-03]\n",
      " [8.50500333e-01 1.49499667e-01]\n",
      " [9.99864570e-01 1.35429865e-04]\n",
      " [9.28448724e-01 7.15512757e-02]\n",
      " [9.68590806e-01 3.14091941e-02]\n",
      " [9.61354435e-01 3.86455646e-02]\n",
      " [8.53290492e-01 1.46709508e-01]\n",
      " [7.12517372e-01 2.87482628e-01]\n",
      " [9.76543522e-01 2.34564782e-02]\n",
      " [8.93511414e-01 1.06488586e-01]\n",
      " [9.95560504e-01 4.43949581e-03]\n",
      " [9.44028858e-01 5.59711425e-02]\n",
      " [9.64401752e-01 3.55982476e-02]\n",
      " [9.29075805e-01 7.09241949e-02]\n",
      " [9.17218212e-01 8.27817882e-02]\n",
      " [5.82405038e-01 4.17594962e-01]\n",
      " [8.06240220e-01 1.93759780e-01]\n",
      " [8.12093938e-01 1.87906062e-01]]\n"
     ]
    }
   ],
   "source": [
    "# Perform Regression\n",
    "coef, intercept, y_test,y_pred, probabilitys, confusion_matrix = logistic_regression(SPHEQ_data, MYOPIC_data)\n",
    "print(y_pred)\n",
    "# Display Regression information. \n",
    "print(\"log likelihood: \", log_likelihood(y_pred, y_test))\n",
    "print(\"model slope: \", coef)\n",
    "print(\"model intercept: \", intercept)\n",
    "plt.scatter(SPHEQ_data, MYOPIC_data)\n",
    "plt.show()\n",
    "print(\"Probabilities: \\n\", probabilitys)"
   ]
  },
  {
   "cell_type": "markdown",
   "metadata": {},
   "source": [
    "## Number 5\n",
    "\n",
    "### a)\n",
    "\n",
    "#### Logistic Regression Equation:\n",
    "\n",
    "    p = 1/ 1 + e^ -(b0 + b1(AGE))\n",
    "\n",
    "where X = AGE and y is the target STA.\n",
    "\n",
    "#### Logit Transform Equation:\n",
    "\n",
    "    logit(p) - log(p/(1-p))\n",
    "\n",
    "where p is the probablity of occurance,\n",
    "\n",
    "### c)\n",
    "\n",
    "#### Likelihood Equation:\n",
    "\n",
    "    L = P(Theta|X)\n",
    "\n",
    "#### log-likelihood equation:\n",
    "\n",
    "    log_likelihood = -log_loss(y_true, y_pred)*len(y_true) = log(L(A)/ L(B))"
   ]
  },
  {
   "cell_type": "code",
   "execution_count": 102,
   "metadata": {},
   "outputs": [
    {
     "name": "stdout",
     "output_type": "stream",
     "text": [
      "[16 16 17 17 17 18 18 18 18 19 19 19 19 20 20 20 20 20 21 21 21 23 23 23\n",
      " 23 24 25 27 28 30 31 32 32 34 35 35 36 40 40 40 40 41 41 41 42 45 45 46\n",
      " 46 46 47 47 47 48 48 48 49 49 49 50 50 50 51 51 52 53 53 53 54 54 55 55\n",
      " 55 55 55 55 55 55 57 57 58 58 59 59 59 60 60 60 60 60 60 60 61 61 61 61\n",
      " 62 62 63 63 63 63 63 64 64 64 64 64 64 65 65 65 65 66 66 66 66 66 67 67\n",
      " 67 67 67 68 68 68 68 68 68 69 69 69 69 69 69 69 70 70 70 70 70 70 71 71\n",
      " 71 71 71 71 72 72 72 72 72 73 73 73 73 74 74 75 75 75 75 75 75 75 75 76\n",
      " 76 76 76 77 77 77 77 77 77 78 78 78 78 79 80 80 80 82 82 83 84 85 87 87\n",
      " 88 88 88 88 89 91 91 92]\n"
     ]
    }
   ],
   "source": [
    "# import ICU data into DataFrame\n",
    "icu_df = pd.read_csv('Data/icu.csv')\n",
    "AGE_data = np.array(icu_df['AGE'])\n",
    "STA_data = np.array(icu_df['STA'])\n",
    "print(AGE_data)"
   ]
  },
  {
   "cell_type": "code",
   "execution_count": 103,
   "metadata": {},
   "outputs": [
    {
     "name": "stdout",
     "output_type": "stream",
     "text": [
      "[0 0 0 0 0 0 0 0 0 0 0 0 0 0 0 0 0 0 0 0 0 0 0 0 0 0 0 0 0 0 0 0 0 0 0 0 0\n",
      " 0 0 0 0 0 0 0 0 0 0 0 0 0]\n",
      "model slope:  [[0.03447665]]\n",
      "model intercept:  [-3.85015459]\n"
     ]
    },
    {
     "data": {
      "image/png": "[encoded data removed]",
      "text/plain": [
       "<Figure size 432x288 with 1 Axes>"
      ]
     },
     "metadata": {
      "needs_background": "light"
     },
     "output_type": "display_data"
    },
    {
     "name": "stdout",
     "output_type": "stream",
     "text": [
      "Probabilities: \n",
      " [[0.95795841 0.04204159]\n",
      " [0.77380615 0.22619385]\n",
      " [0.83803083 0.16196917]\n",
      " [0.84265616 0.15734384]\n",
      " [0.76150996 0.23849004]\n",
      " [0.74876236 0.25123764]\n",
      " [0.96193219 0.03806781]\n",
      " [0.80255056 0.19744944]\n",
      " [0.9606494  0.0393506 ]\n",
      " [0.79703024 0.20296976]\n",
      " [0.89343534 0.10656466]\n",
      " [0.81842935 0.18157065]\n",
      " [0.76150996 0.23849004]\n",
      " [0.79139571 0.20860429]\n",
      " [0.86418683 0.13581317]\n",
      " [0.96193219 0.03806781]\n",
      " [0.93571282 0.06428718]\n",
      " [0.81324967 0.18675033]\n",
      " [0.92209    0.07791   ]\n",
      " [0.87587548 0.12412452]\n",
      " [0.74876236 0.25123764]\n",
      " [0.80255056 0.19744944]\n",
      " [0.90876975 0.09123025]\n",
      " [0.77978359 0.22021641]\n",
      " [0.89343534 0.10656466]\n",
      " [0.81842935 0.18157065]\n",
      " [0.76150996 0.23849004]\n",
      " [0.73556999 0.26443001]\n",
      " [0.82349654 0.17650346]\n",
      " [0.91698998 0.08301002]\n",
      " [0.95932521 0.04067479]\n",
      " [0.89982443 0.10017557]\n",
      " [0.79703024 0.20296976]\n",
      " [0.83329643 0.16670357]\n",
      " [0.95509199 0.04490801]\n",
      " [0.71496858 0.28503142]\n",
      " [0.81324967 0.18675033]\n",
      " [0.96317476 0.03682524]\n",
      " [0.86008933 0.13991067]\n",
      " [0.83803083 0.16196917]\n",
      " [0.81324967 0.18675033]\n",
      " [0.88317972 0.11682028]\n",
      " [0.95203993 0.04796007]\n",
      " [0.82845197 0.17154803]\n",
      " [0.77380615 0.22619385]\n",
      " [0.89010806 0.10989194]\n",
      " [0.96193219 0.03806781]\n",
      " [0.87587548 0.12412452]\n",
      " [0.82349654 0.17650346]\n",
      " [0.80255056 0.19744944]]\n"
     ]
    },
    {
     "data": {
      "image/png": "[encoded data removed]",
      "text/plain": [
       "<Figure size 432x288 with 2 Axes>"
      ]
     },
     "metadata": {
      "needs_background": "light"
     },
     "output_type": "display_data"
    }
   ],
   "source": [
    "# Perform Regression\n",
    "coef, intercept, y_test,y_pred, probabilitys, confusion_matrix = logistic_regression(AGE_data, STA_data)\n",
    "print(y_test)\n",
    "# Display Regression information. \n",
    "print(\"model slope: \", coef)\n",
    "print(\"model intercept: \", intercept)\n",
    "plt.scatter(AGE_data, STA_data)\n",
    "plt.show()\n",
    "sns.heatmap(confusion_matrix, annot=True)\n",
    "print(\"Probabilities: \\n\", probabilitys)"
   ]
  },
  {
   "cell_type": "markdown",
   "metadata": {},
   "source": [
    "### e)\n",
    "\n",
    "The plots seem to show that Logistic regression is not a good first for a machine learning algorithm for this data. This is because logistic regression does not only require the Bernouli Distrabution, but also a point in the data where the data gravitates towards only 1 and the same for 0. If this is not present in the data, thus logistic regression will be a bad fit for this. "
   ]
  }
 ],
 "metadata": {
  "interpreter": {
   "hash": "38cca0c38332a56087b24af0bc80247f4fced29cb4f7f437d91dc159adec9c4e"
  },
  "kernelspec": {
   "display_name": "Python 3.8.8 64-bit (conda)",
   "name": "python3"
  },
  "language_info": {
   "codemirror_mode": {
    "name": "ipython",
    "version": 3
   },
   "file_extension": ".py",
   "mimetype": "text/x-python",
   "name": "python",
   "nbconvert_exporter": "python",
   "pygments_lexer": "ipython3",
   "version": "3.8.8"
  },
  "orig_nbformat": 4
 },
 "nbformat": 4,
 "nbformat_minor": 2
}
